{
 "cells": [
  {
   "cell_type": "code",
   "execution_count": 2,
   "metadata": {},
   "outputs": [
    {
     "name": "stderr",
     "output_type": "stream",
     "text": [
      "/opt/conda/envs/openmmlab/lib/python3.10/site-packages/mmseg/models/builder.py:36: UserWarning: ``build_loss`` would be deprecated soon, please use ``mmseg.registry.MODELS.build()`` \n",
      "  warnings.warn('``build_loss`` would be deprecated soon, please use '\n",
      "/opt/conda/envs/openmmlab/lib/python3.10/site-packages/mmseg/models/losses/cross_entropy_loss.py:249: UserWarning: Default ``avg_non_ignore`` is False, if you would like to ignore the certain label and average loss over non-ignore labels, which is the same with PyTorch official cross_entropy, set ``avg_non_ignore=True``.\n",
      "  warnings.warn(\n"
     ]
    },
    {
     "name": "stdout",
     "output_type": "stream",
     "text": [
      "Loads checkpoint by local backend from path: pspnet_r50-d8_512x1024_40k_cityscapes_20200605_003338-2966598c.pth\n"
     ]
    },
    {
     "data": {
      "text/plain": [
       "array([[[162, 162, 162],\n",
       "        [162, 162, 162],\n",
       "        [162, 162, 162],\n",
       "        ...,\n",
       "        [162, 162, 162],\n",
       "        [162, 162, 162],\n",
       "        [162, 162, 162]],\n",
       "\n",
       "       [[162, 162, 162],\n",
       "        [162, 162, 162],\n",
       "        [162, 162, 162],\n",
       "        ...,\n",
       "        [162, 162, 162],\n",
       "        [162, 162, 162],\n",
       "        [162, 162, 162]],\n",
       "\n",
       "       [[162, 162, 162],\n",
       "        [162, 162, 162],\n",
       "        [162, 162, 162],\n",
       "        ...,\n",
       "        [162, 162, 162],\n",
       "        [162, 162, 162],\n",
       "        [162, 162, 162]],\n",
       "\n",
       "       ...,\n",
       "\n",
       "       [[120, 151, 172],\n",
       "        [120, 151, 172],\n",
       "        [120, 151, 172],\n",
       "        ...,\n",
       "        [120, 121, 237],\n",
       "        [120, 121, 237],\n",
       "        [120, 121, 237]],\n",
       "\n",
       "       [[127, 157, 177],\n",
       "        [127, 157, 177],\n",
       "        [127, 157, 177],\n",
       "        ...,\n",
       "        [127, 127, 242],\n",
       "        [127, 127, 242],\n",
       "        [127, 127, 242]],\n",
       "\n",
       "       [[127, 157, 177],\n",
       "        [127, 157, 177],\n",
       "        [127, 157, 177],\n",
       "        ...,\n",
       "        [127, 127, 242],\n",
       "        [127, 127, 242],\n",
       "        [127, 127, 242]]], dtype=uint8)"
      ]
     },
     "execution_count": 2,
     "metadata": {},
     "output_type": "execute_result"
    }
   ],
   "source": [
    "from mmseg.apis import inference_model, init_model, show_result_pyplot\n",
    "import mmcv\n",
    "\n",
    "config_file = 'pspnet_r50-d8_4xb2-40k_cityscapes-512x1024.py'\n",
    "checkpoint_file = 'pspnet_r50-d8_512x1024_40k_cityscapes_20200605_003338-2966598c.pth'\n",
    "\n",
    "# build the model from a config file and a checkpoint file\n",
    "model = init_model(config_file, checkpoint_file, device='cuda:0')\n",
    "\n",
    "# test a single image and show the results\n",
    "img = 'demo/demo.png'  # or img = mmcv.imread(img), which will only load it once\n",
    "# img = mmcv.imread(img)\n",
    "result = inference_model(model, img)\n",
    "# visualize the results in a new window\n",
    "show_result_pyplot(model, img, result, show=True)\n",
    "# or save the visualization results to image files\n",
    "# you can change the opacity of the painted segmentation map in (0, 1].\n",
    "show_result_pyplot(model, img, result, show=True, out_file='result.jpg', opacity=0.5)\n",
    "# # test a video and show the results\n",
    "# video = mmcv.VideoReader('video.mp4')\n",
    "# for frame in video:\n",
    "#    result = inference_model(model, frame)\n",
    "#    show_result_pyplot(model, frame, result, wait_time=1)"
   ]
  },
  {
   "cell_type": "code",
   "execution_count": null,
   "metadata": {},
   "outputs": [],
   "source": []
  }
 ],
 "metadata": {
  "kernelspec": {
   "display_name": "tryout",
   "language": "python",
   "name": "python3"
  },
  "language_info": {
   "codemirror_mode": {
    "name": "ipython",
    "version": 3
   },
   "file_extension": ".py",
   "mimetype": "text/x-python",
   "name": "python",
   "nbconvert_exporter": "python",
   "pygments_lexer": "ipython3",
   "version": "3.10.13"
  }
 },
 "nbformat": 4,
 "nbformat_minor": 2
}
